{
 "cells": [
  {
   "cell_type": "code",
   "execution_count": 2,
   "metadata": {},
   "outputs": [],
   "source": [
    "from nilearn import plotting\n",
    "%matplotlib inline\n",
    "\n",
    "# Get the Node and Workflow object\n",
    "from nipype import Node, Workflow"
   ]
  },
  {
   "cell_type": "markdown",
   "metadata": {},
   "source": [
    "## Create Nodes and Workflow connections\n",
    "\n",
    "Let's create all the nodes that we need! Make sure to specify all relevant inputs and keep in mind which ones you later on need to connect in your pipeline.\n",
    "\n",
    "### Workflow\n",
    "\n",
    "We recommend to create the workflow and establish all its connections at a later place in your script. This helps to have everything nicely together. But for this hands-on example, it makes sense to establish the connections between the nodes as we go.\n",
    "\n",
    "And for this, we first need to create a workflow:"
   ]
  },
  {
   "cell_type": "code",
   "execution_count": 2,
   "metadata": {
    "solution2": "hidden",
    "solution2_first": true
   },
   "outputs": [],
   "source": [
    "# Create the workflow here\n",
    "# Hint: use 'base_dir' to specify where to store the working directory"
   ]
  },
  {
   "cell_type": "code",
   "execution_count": 3,
   "metadata": {
    "solution2": "hidden"
   },
   "outputs": [],
   "source": [
    "preproc = Workflow(name='work_preproc', base_dir='/output/')"
   ]
  },
  {
   "cell_type": "markdown",
   "metadata": {},
   "source": [
    "### Gunzip\n",
    "\n",
    "I've already created the `Gunzip` node as a template for the other nodes. Also, we've specified an `in_file` here so that we can directly test the nodes without worrying about the Input/Output data stream to the workflow. This will be taken care of in a later section."
   ]
  },
  {
   "cell_type": "code",
   "execution_count": 4,
   "metadata": {},
   "outputs": [],
   "source": [
    "from nipype.algorithms.misc import Gunzip"
   ]
  },
  {
   "cell_type": "code",
   "execution_count": 5,
   "metadata": {},
   "outputs": [
    {
     "ename": "TraitError",
     "evalue": "The 'in_file' trait of a GunzipInputSpec instance must be a pathlike object or string representing an existing file, but a value of '/data/ds000114/sub-07/ses-test/func/sub-07_ses-test_task-fingerfootlips_bold.nii.gz' <class 'str'> was specified.",
     "output_type": "error",
     "traceback": [
      "\u001b[0;31m---------------------------------------------------------------------------\u001b[0m",
      "\u001b[0;31mTraitError\u001b[0m                                Traceback (most recent call last)",
      "\u001b[1;32m/home/sus/Documents/VS_CODE/AntsFsl_MRI_github/AntsFsl_MRI/segmentation.ipynb Cell 11\u001b[0m line \u001b[0;36m5\n\u001b[1;32m      <a href='vscode-notebook-cell:/home/sus/Documents/VS_CODE/AntsFsl_MRI_github/AntsFsl_MRI/segmentation.ipynb#X13sZmlsZQ%3D%3D?line=1'>2</a>\u001b[0m func_file \u001b[39m=\u001b[39m \u001b[39m'\u001b[39m\u001b[39m/data/ds000114/sub-07/ses-test/func/sub-07_ses-test_task-fingerfootlips_bold.nii.gz\u001b[39m\u001b[39m'\u001b[39m\n\u001b[1;32m      <a href='vscode-notebook-cell:/home/sus/Documents/VS_CODE/AntsFsl_MRI_github/AntsFsl_MRI/segmentation.ipynb#X13sZmlsZQ%3D%3D?line=3'>4</a>\u001b[0m \u001b[39m# Initiate Gunzip node\u001b[39;00m\n\u001b[0;32m----> <a href='vscode-notebook-cell:/home/sus/Documents/VS_CODE/AntsFsl_MRI_github/AntsFsl_MRI/segmentation.ipynb#X13sZmlsZQ%3D%3D?line=4'>5</a>\u001b[0m gunzip_func \u001b[39m=\u001b[39m Node(Gunzip(in_file\u001b[39m=\u001b[39;49mfunc_file), name\u001b[39m=\u001b[39m\u001b[39m'\u001b[39m\u001b[39mgunzip_func\u001b[39m\u001b[39m'\u001b[39m)\n",
      "File \u001b[0;32m~/.local/lib/python3.10/site-packages/nipype/interfaces/base/core.py:202\u001b[0m, in \u001b[0;36mBaseInterface.__init__\u001b[0;34m(self, from_file, resource_monitor, ignore_exception, **inputs)\u001b[0m\n\u001b[1;32m    200\u001b[0m \u001b[39mif\u001b[39;00m unavailable_traits:\n\u001b[1;32m    201\u001b[0m     \u001b[39mself\u001b[39m\u001b[39m.\u001b[39minputs\u001b[39m.\u001b[39mtrait_set(\u001b[39m*\u001b[39m\u001b[39m*\u001b[39m{k: Undefined \u001b[39mfor\u001b[39;00m k \u001b[39min\u001b[39;00m unavailable_traits})\n\u001b[0;32m--> 202\u001b[0m \u001b[39mself\u001b[39;49m\u001b[39m.\u001b[39;49minputs\u001b[39m.\u001b[39;49mtrait_set(\u001b[39m*\u001b[39;49m\u001b[39m*\u001b[39;49minputs)\n\u001b[1;32m    204\u001b[0m \u001b[39mself\u001b[39m\u001b[39m.\u001b[39mignore_exception \u001b[39m=\u001b[39m ignore_exception\n\u001b[1;32m    206\u001b[0m \u001b[39mif\u001b[39;00m resource_monitor \u001b[39mis\u001b[39;00m \u001b[39mnot\u001b[39;00m \u001b[39mNone\u001b[39;00m:\n",
      "File \u001b[0;32m~/.local/lib/python3.10/site-packages/traits/has_traits.py:1520\u001b[0m, in \u001b[0;36mHasTraits.trait_set\u001b[0;34m(self, trait_change_notify, **traits)\u001b[0m\n\u001b[1;32m   1518\u001b[0m \u001b[39melse\u001b[39;00m:\n\u001b[1;32m   1519\u001b[0m     \u001b[39mfor\u001b[39;00m name, value \u001b[39min\u001b[39;00m traits\u001b[39m.\u001b[39mitems():\n\u001b[0;32m-> 1520\u001b[0m         \u001b[39msetattr\u001b[39;49m(\u001b[39mself\u001b[39;49m, name, value)\n\u001b[1;32m   1522\u001b[0m \u001b[39mreturn\u001b[39;00m \u001b[39mself\u001b[39m\n",
      "File \u001b[0;32m~/.local/lib/python3.10/site-packages/nipype/interfaces/base/traits_extension.py:330\u001b[0m, in \u001b[0;36mFile.validate\u001b[0;34m(self, objekt, name, value, return_pathlike)\u001b[0m\n\u001b[1;32m    328\u001b[0m \u001b[39mdef\u001b[39;00m \u001b[39mvalidate\u001b[39m(\u001b[39mself\u001b[39m, objekt, name, value, return_pathlike\u001b[39m=\u001b[39m\u001b[39mFalse\u001b[39;00m):\n\u001b[1;32m    329\u001b[0m \u001b[39m    \u001b[39m\u001b[39m\"\"\"Validate a value change.\"\"\"\u001b[39;00m\n\u001b[0;32m--> 330\u001b[0m     value \u001b[39m=\u001b[39m \u001b[39msuper\u001b[39;49m(File, \u001b[39mself\u001b[39;49m)\u001b[39m.\u001b[39;49mvalidate(objekt, name, value, return_pathlike\u001b[39m=\u001b[39;49m\u001b[39mTrue\u001b[39;49;00m)\n\u001b[1;32m    331\u001b[0m     \u001b[39mif\u001b[39;00m \u001b[39mself\u001b[39m\u001b[39m.\u001b[39m_exts:\n\u001b[1;32m    332\u001b[0m         fname \u001b[39m=\u001b[39m value\u001b[39m.\u001b[39mname\n",
      "File \u001b[0;32m~/.local/lib/python3.10/site-packages/nipype/interfaces/base/traits_extension.py:135\u001b[0m, in \u001b[0;36mBasePath.validate\u001b[0;34m(self, objekt, name, value, return_pathlike)\u001b[0m\n\u001b[1;32m    133\u001b[0m \u001b[39mif\u001b[39;00m \u001b[39mself\u001b[39m\u001b[39m.\u001b[39mexists:\n\u001b[1;32m    134\u001b[0m     \u001b[39mif\u001b[39;00m \u001b[39mnot\u001b[39;00m value\u001b[39m.\u001b[39mexists():\n\u001b[0;32m--> 135\u001b[0m         \u001b[39mself\u001b[39;49m\u001b[39m.\u001b[39;49merror(objekt, name, \u001b[39mstr\u001b[39;49m(value))\n\u001b[1;32m    137\u001b[0m     \u001b[39mif\u001b[39;00m \u001b[39mself\u001b[39m\u001b[39m.\u001b[39m_is_file \u001b[39mand\u001b[39;00m \u001b[39mnot\u001b[39;00m value\u001b[39m.\u001b[39mis_file():\n\u001b[1;32m    138\u001b[0m         \u001b[39mself\u001b[39m\u001b[39m.\u001b[39merror(objekt, name, \u001b[39mstr\u001b[39m(value))\n",
      "File \u001b[0;32m~/.local/lib/python3.10/site-packages/traits/base_trait_handler.py:74\u001b[0m, in \u001b[0;36mBaseTraitHandler.error\u001b[0;34m(self, object, name, value)\u001b[0m\n\u001b[1;32m     57\u001b[0m \u001b[39mdef\u001b[39;00m \u001b[39merror\u001b[39m(\u001b[39mself\u001b[39m, \u001b[39mobject\u001b[39m, name, value):\n\u001b[1;32m     58\u001b[0m \u001b[39m    \u001b[39m\u001b[39m\"\"\"Raises a TraitError exception.\u001b[39;00m\n\u001b[1;32m     59\u001b[0m \n\u001b[1;32m     60\u001b[0m \u001b[39m    This method is called by the validate() method when an assigned value\u001b[39;00m\n\u001b[0;32m   (...)\u001b[0m\n\u001b[1;32m     72\u001b[0m \u001b[39m        The proposed new value for the attribute.\u001b[39;00m\n\u001b[1;32m     73\u001b[0m \u001b[39m    \"\"\"\u001b[39;00m\n\u001b[0;32m---> 74\u001b[0m     \u001b[39mraise\u001b[39;00m TraitError(\n\u001b[1;32m     75\u001b[0m         \u001b[39mobject\u001b[39m, name, \u001b[39mself\u001b[39m\u001b[39m.\u001b[39mfull_info(\u001b[39mobject\u001b[39m, name, value), value\n\u001b[1;32m     76\u001b[0m     )\n",
      "\u001b[0;31mTraitError\u001b[0m: The 'in_file' trait of a GunzipInputSpec instance must be a pathlike object or string representing an existing file, but a value of '/data/ds000114/sub-07/ses-test/func/sub-07_ses-test_task-fingerfootlips_bold.nii.gz' <class 'str'> was specified."
     ]
    }
   ],
   "source": [
    "# Specify example input file\n",
    "func_file = '/data/ds000114/sub-07/ses-test/func/sub-07_ses-test_task-fingerfootlips_bold.nii.gz'\n",
    "\n",
    "# Initiate Gunzip node\n",
    "gunzip_func = Node(Gunzip(in_file=func_file), name='gunzip_func')"
   ]
  },
  {
   "cell_type": "markdown",
   "metadata": {},
   "source": [
    "### Drop Dummy Scans\n",
    "\n",
    "The functional images of this dataset were recorded with 4 dummy scans at the beginning (see the [corresponding publication](https://www.ncbi.nlm.nih.gov/pmc/articles/PMC3641991/)). But those dummy scans were not yet taken out from the functional images.\n",
    "\n",
    "To better illustrate this, let's plot the time course of a random voxel of the just defined `func_file`:"
   ]
  },
  {
   "cell_type": "code",
   "execution_count": null,
   "metadata": {},
   "outputs": [],
   "source": [
    "import nibabel as nb\n",
    "%matplotlib inline\n",
    "import matplotlib.pyplot as plt\n",
    "plt.plot(nb.load(func_file).get_fdata()[32, 32, 15, :]);"
   ]
  },
  {
   "cell_type": "markdown",
   "metadata": {},
   "source": [
    "In the figure above, we see that at the very beginning there are extreme values, which hint to the fact that steady state wasn't reached yet. Therefore, we want to exclude the dummy scans from the original data. This can be achieved with FSL's `ExtractROI`."
   ]
  },
  {
   "cell_type": "code",
   "execution_count": null,
   "metadata": {},
   "outputs": [],
   "source": [
    "from nipype.interfaces.fsl import ExtractROI"
   ]
  },
  {
   "cell_type": "code",
   "execution_count": null,
   "metadata": {},
   "outputs": [],
   "source": [
    "extract = Node(ExtractROI(t_min=4, t_size=-1, output_type='NIFTI'),\n",
    "               name=\"extract\")"
   ]
  },
  {
   "cell_type": "markdown",
   "metadata": {},
   "source": [
    "This `ExtractROI` node can now be connected to the `gunzip_func` node from above. To do this, we use the following command:"
   ]
  },
  {
   "cell_type": "code",
   "execution_count": null,
   "metadata": {},
   "outputs": [],
   "source": [
    "preproc.connect([(gunzip_func, extract, [('out_file', 'in_file')])])"
   ]
  },
  {
   "cell_type": "markdown",
   "metadata": {},
   "source": [
    "### Slice Time Correction\n",
    "\n",
    "Now to the next step. Let's us SPM's `SliceTiming` to correct for slice wise acquisition of the volumes. As a reminder, the tutorial dataset was recorded...\n",
    "- with a time repetition (TR) of 2.5 seconds\n",
    "- with 30 slices per volume\n",
    "- in an interleaved fashion, i.e. slice order is [1, 3, 5, 7, ..., 2, 4, 6, ..., 30]\n",
    "- with a time acquisition (TA) of 2.4167 seconds, i.e. `TR-(TR/num_slices)`"
   ]
  },
  {
   "cell_type": "code",
   "execution_count": null,
   "metadata": {},
   "outputs": [],
   "source": [
    "from nipype.interfaces.spm import SliceTiming"
   ]
  },
  {
   "cell_type": "code",
   "execution_count": null,
   "metadata": {},
   "outputs": [],
   "source": [
    "slice_order = list(range(1, 31, 2)) + list(range(2, 31, 2))\n",
    "print(slice_order)"
   ]
  },
  {
   "cell_type": "code",
   "execution_count": null,
   "metadata": {
    "solution2": "hidden",
    "solution2_first": true
   },
   "outputs": [],
   "source": [
    "# Initiate SliceTiming node here"
   ]
  },
  {
   "cell_type": "code",
   "execution_count": null,
   "metadata": {
    "solution2": "hidden"
   },
   "outputs": [],
   "source": [
    "slicetime = Node(SliceTiming(num_slices=30,\n",
    "                             ref_slice=15,\n",
    "                             slice_order=slice_order,\n",
    "                             time_repetition=2.5,\n",
    "                             time_acquisition=2.5-(2.5/30)),\n",
    "                 name='slicetime')"
   ]
  },
  {
   "cell_type": "markdown",
   "metadata": {},
   "source": [
    "Now the next step is to connect the `SliceTiming` node to the rest of the workflow, i.e. the `ExtractROI` node."
   ]
  },
  {
   "cell_type": "code",
   "execution_count": null,
   "metadata": {
    "solution2": "hidden",
    "solution2_first": true
   },
   "outputs": [],
   "source": [
    "# Connect SliceTiming node to the other nodes here"
   ]
  },
  {
   "cell_type": "code",
   "execution_count": null,
   "metadata": {
    "solution2": "hidden"
   },
   "outputs": [],
   "source": [
    "preproc.connect([(extract, slicetime, [('roi_file', 'in_files')])])"
   ]
  },
  {
   "cell_type": "markdown",
   "metadata": {},
   "source": [
    "### Motion Correction\n",
    "\n",
    "To correct for motion in the scanner, we will be using FSL's `MCFLIRT`."
   ]
  },
  {
   "cell_type": "code",
   "execution_count": null,
   "metadata": {},
   "outputs": [],
   "source": [
    "from nipype.interfaces.fsl import MCFLIRT"
   ]
  },
  {
   "cell_type": "code",
   "execution_count": null,
   "metadata": {
    "solution2": "hidden",
    "solution2_first": true
   },
   "outputs": [],
   "source": [
    "# Initate MCFLIRT node here"
   ]
  },
  {
   "cell_type": "code",
   "execution_count": null,
   "metadata": {
    "solution2": "hidden"
   },
   "outputs": [],
   "source": [
    "mcflirt = Node(MCFLIRT(mean_vol=True,\n",
    "                       save_plots=True),\n",
    "               name=\"mcflirt\")"
   ]
  },
  {
   "cell_type": "markdown",
   "metadata": {},
   "source": [
    "Connect the `MCFLIRT` node to the rest of the workflow."
   ]
  },
  {
   "cell_type": "code",
   "execution_count": null,
   "metadata": {
    "solution2": "hidden",
    "solution2_first": true
   },
   "outputs": [],
   "source": [
    "# Connect MCFLIRT node to the other nodes here"
   ]
  },
  {
   "cell_type": "code",
   "execution_count": null,
   "metadata": {
    "solution2": "hidden"
   },
   "outputs": [],
   "source": [
    "preproc.connect([(slicetime, mcflirt, [('timecorrected_files', 'in_file')])])"
   ]
  },
  {
   "cell_type": "markdown",
   "metadata": {},
   "source": [
    "### Artifact Detection\n",
    "\n",
    "We will use the really cool and useful `ArtifactDetection` tool from Nipype to detect motion and intensity outliers in the functional images. The interface is initiated as follows:"
   ]
  },
  {
   "cell_type": "code",
   "execution_count": null,
   "metadata": {},
   "outputs": [],
   "source": [
    "from nipype.algorithms.rapidart import ArtifactDetect"
   ]
  },
  {
   "cell_type": "code",
   "execution_count": null,
   "metadata": {},
   "outputs": [],
   "source": [
    "art = Node(ArtifactDetect(norm_threshold=0.6,\n",
    "                          zintensity_threshold=2.2,\n",
    "                          mask_type='spm_global',\n",
    "                          parameter_source='FSL',\n",
    "                          use_differences=[True, False],\n",
    "                          plot_type='svg'),\n",
    "           name=\"art\")"
   ]
  },
  {
   "cell_type": "markdown",
   "metadata": {},
   "source": [
    "The parameters above mean the following:\n",
    "- `norm_threshold` - Threshold to use to detect motion-related outliers when composite motion is being used\n",
    "- `zintensity_threshold` - Intensity Z-threshold use to detection images that deviate from the mean\n",
    "- `mask_type` - Type of mask that should be used to mask the functional data. *spm_global* uses an spm_global like calculation to determine the brain mask\n",
    "- `parameter_source` - Source of movement parameters\n",
    "- `use_differences` - If you want to use differences between successive motion (first element) and intensity parameter (second element) estimates in order to determine outliers"
   ]
  },
  {
   "cell_type": "markdown",
   "metadata": {},
   "source": [
    "And this is how you connect this node to the rest of the workflow:"
   ]
  },
  {
   "cell_type": "code",
   "execution_count": null,
   "metadata": {},
   "outputs": [],
   "source": [
    "preproc.connect([(mcflirt, art, [('out_file', 'realigned_files'),\n",
    "                                 ('par_file', 'realignment_parameters')])\n",
    "                 ])"
   ]
  },
  {
   "cell_type": "markdown",
   "metadata": {},
   "source": [
    "### Segmentation of anatomical image\n",
    "\n",
    "Now let's work on the anatomical image. In particular, let's use SPM's `NewSegment` to create probability maps for the gray matter, white matter tissue and CSF."
   ]
  },
  {
   "cell_type": "code",
   "execution_count": null,
   "metadata": {},
   "outputs": [],
   "source": [
    "from nipype.interfaces.spm import NewSegment"
   ]
  },
  {
   "cell_type": "code",
   "execution_count": null,
   "metadata": {},
   "outputs": [],
   "source": [
    "# Use the following tissue specification to get a GM and WM probability map\n",
    "tpm_img ='/opt/spm12-r7219/spm12_mcr/spm12/tpm/TPM.nii'\n",
    "tissue1 = ((tpm_img, 1), 1, (True,False), (False, False))\n",
    "tissue2 = ((tpm_img, 2), 1, (True,False), (False, False))\n",
    "tissue3 = ((tpm_img, 3), 2, (True,False), (False, False))\n",
    "tissue4 = ((tpm_img, 4), 3, (False,False), (False, False))\n",
    "tissue5 = ((tpm_img, 5), 4, (False,False), (False, False))\n",
    "tissue6 = ((tpm_img, 6), 2, (False,False), (False, False))\n",
    "tissues = [tissue1, tissue2, tissue3, tissue4, tissue5, tissue6]"
   ]
  },
  {
   "cell_type": "code",
   "execution_count": null,
   "metadata": {
    "solution2": "hidden",
    "solution2_first": true
   },
   "outputs": [],
   "source": [
    "# Initiate NewSegment node here"
   ]
  },
  {
   "cell_type": "code",
   "execution_count": null,
   "metadata": {
    "solution2": "hidden"
   },
   "outputs": [],
   "source": [
    "segment = Node(NewSegment(tissues=tissues), name='segment')"
   ]
  },
  {
   "cell_type": "markdown",
   "metadata": {},
   "source": [
    "We will again be using a `Gunzip` node to unzip the anatomical image that we then want to use as input to the segmentation node. We again also need to specify the anatomical image that we want to use in this case. As before, this will later also be handled directly by the Input/Output stream."
   ]
  },
  {
   "cell_type": "code",
   "execution_count": null,
   "metadata": {},
   "outputs": [],
   "source": [
    "# Specify example input file\n",
    "anat_file = '/data/ds000114/sub-07/ses-test/anat/sub-07_ses-test_T1w.nii.gz'\n",
    "\n",
    "# Initiate Gunzip node\n",
    "gunzip_anat = Node(Gunzip(in_file=anat_file), name='gunzip_anat')"
   ]
  },
  {
   "cell_type": "markdown",
   "metadata": {},
   "source": [
    "Now we can connect the `NewSegment` node to the rest of the workflow."
   ]
  },
  {
   "cell_type": "code",
   "execution_count": null,
   "metadata": {
    "solution2": "hidden",
    "solution2_first": true
   },
   "outputs": [],
   "source": [
    "# Connect NewSegment node to the other nodes here"
   ]
  },
  {
   "cell_type": "code",
   "execution_count": null,
   "metadata": {
    "solution2": "hidden"
   },
   "outputs": [],
   "source": [
    "preproc.connect([(gunzip_anat, segment, [('out_file', 'channel_files')])])"
   ]
  },
  {
   "cell_type": "markdown",
   "metadata": {},
   "source": [
    "### Compute Coregistration Matrix\n",
    "\n",
    "As a next step, we will make sure that the functional images are coregistered to the anatomical image. For this, we will use FSL's `FLIRT` function. As we just created a white matter probability map, we can use this together with the Boundary-Based Registration (BBR) cost function to optimize the image coregistration. As some helpful notes...\n",
    "- use a degree of freedom of 6\n",
    "- specify the cost function as `bbr`\n",
    "- use the `schedule='/usr/share/fsl/5.0/etc/flirtsch/bbr.sch'`"
   ]
  },
  {
   "cell_type": "code",
   "execution_count": null,
   "metadata": {},
   "outputs": [],
   "source": [
    "from nipype.interfaces.fsl import FLIRT"
   ]
  },
  {
   "cell_type": "code",
   "execution_count": null,
   "metadata": {
    "solution2": "hidden",
    "solution2_first": true
   },
   "outputs": [],
   "source": [
    "# Initiate FLIRT node here"
   ]
  },
  {
   "cell_type": "code",
   "execution_count": null,
   "metadata": {
    "solution2": "hidden"
   },
   "outputs": [],
   "source": [
    "coreg = Node(FLIRT(dof=6,\n",
    "                   cost='bbr',\n",
    "                   schedule='/usr/share/fsl/5.0/etc/flirtsch/bbr.sch',\n",
    "                   output_type='NIFTI'),\n",
    "             name=\"coreg\")"
   ]
  },
  {
   "cell_type": "code",
   "execution_count": null,
   "metadata": {
    "solution2": "hidden",
    "solution2_first": true
   },
   "outputs": [],
   "source": [
    "# Connect FLIRT node to the other nodes here"
   ]
  },
  {
   "cell_type": "code",
   "execution_count": null,
   "metadata": {
    "solution2": "hidden"
   },
   "outputs": [],
   "source": [
    "preproc.connect([(gunzip_anat, coreg, [('out_file', 'reference')]),\n",
    "                 (mcflirt, coreg, [('mean_img', 'in_file')])\n",
    "                 ])"
   ]
  },
  {
   "cell_type": "markdown",
   "metadata": {},
   "source": [
    "As mentioned above, the `bbr` routine can use the subject-specific white matter probability map to guide the coregistration. But for this, we need to create a binary mask out of the WM probability map. This can easily be done by FSL's `Threshold` interface."
   ]
  },
  {
   "cell_type": "code",
   "execution_count": null,
   "metadata": {},
   "outputs": [],
   "source": [
    "from nipype.interfaces.fsl import Threshold\n",
    "\n",
    "# Threshold - Threshold WM probability image\n",
    "threshold_WM = Node(Threshold(thresh=0.5,\n",
    "                              args='-bin',\n",
    "                              output_type='NIFTI'),\n",
    "                name=\"threshold_WM\")"
   ]
  },
  {
   "cell_type": "markdown",
   "metadata": {},
   "source": [
    "Now, to select the WM probability map that the `NewSegment` node created, we need some helper function. Because the output field `partial_volume_files` form the segmentation node, will give us a list of files, i.e. `[[GM_prob], [WM_prob], [], [], [], []]`. Therefore, using the following function, we can select only the last element of this list."
   ]
  },
  {
   "cell_type": "code",
   "execution_count": null,
   "metadata": {},
   "outputs": [],
   "source": [
    "# Select WM segmentation file from segmentation output\n",
    "def get_wm(files):\n",
    "    return files[1][0]\n",
    "\n",
    "# Connecting the segmentation node with the threshold node\n",
    "preproc.connect([(segment, threshold_WM, [(('native_class_images', get_wm),\n",
    "                                           'in_file')])])"
   ]
  },
  {
   "cell_type": "markdown",
   "metadata": {},
   "source": [
    "Now we can just connect this `Threshold` node to the coregistration node from above."
   ]
  },
  {
   "cell_type": "code",
   "execution_count": null,
   "metadata": {
    "solution2": "hidden",
    "solution2_first": true
   },
   "outputs": [],
   "source": [
    "# Connect Threshold node to coregistration node above here"
   ]
  },
  {
   "cell_type": "code",
   "execution_count": null,
   "metadata": {
    "solution2": "hidden"
   },
   "outputs": [],
   "source": [
    "preproc.connect([(threshold_WM, coreg, [('out_file', 'wm_seg')])])"
   ]
  },
  {
   "cell_type": "markdown",
   "metadata": {},
   "source": [
    "### Apply Coregistration Matrix to functional image\n",
    "\n",
    "Now that we know the coregistration matrix to correctly overlay the functional mean image on the subject-specific anatomy, we need to apply to coregistration to the whole time series. This can be achieved with FSL's `FLIRT` as follows:"
   ]
  },
  {
   "cell_type": "code",
   "execution_count": null,
   "metadata": {},
   "outputs": [],
   "source": [
    "# Specify the isometric voxel resolution you want after coregistration\n",
    "desired_voxel_iso = 4\n",
    "\n",
    "# Apply coregistration warp to functional images\n",
    "applywarp = Node(FLIRT(interp='spline',\n",
    "                       apply_isoxfm=desired_voxel_iso,\n",
    "                       output_type='NIFTI'),\n",
    "                 name=\"applywarp\")"
   ]
  },
  {
   "cell_type": "markdown",
   "metadata": {},
   "source": [
    "**<span style=\"color:red\">Important</span>**: As you can see above, we also specified a variable `desired_voxel_iso`. This is very important at this stage, otherwise `FLIRT` will transform your functional images to a resolution of the anatomical image, which will dramatically increase the file size (e.g. to 1-10GB per file). If you don't want to change the voxel resolution, use the additional parameter `no_resample=True`. Important, for this to work, you still need to define `apply_isoxfm`."
   ]
  },
  {
   "cell_type": "code",
   "execution_count": null,
   "metadata": {},
   "outputs": [],
   "source": [
    "# Connecting the ApplyWarp node to all the other nodes\n",
    "preproc.connect([(mcflirt, applywarp, [('out_file', 'in_file')]),\n",
    "                 (coreg, applywarp, [('out_matrix_file', 'in_matrix_file')]),\n",
    "                 (gunzip_anat, applywarp, [('out_file', 'reference')])\n",
    "                 ])"
   ]
  },
  {
   "cell_type": "markdown",
   "metadata": {},
   "source": [
    "### Smoothing\n",
    "\n",
    "Next step is image smoothing. The most simple way to do this is to use FSL's or SPM's `Smooth` function. But for learning purposes, let's use FSL's `SUSAN` workflow as it is implemented in Nipype. Note that this time, we are importing a workflow instead of an interface."
   ]
  },
  {
   "cell_type": "code",
   "execution_count": null,
   "metadata": {},
   "outputs": [],
   "source": [
    "from niflow.nipype1.workflows.fmri.fsl.preprocess import create_susan_smooth"
   ]
  },
  {
   "cell_type": "markdown",
   "metadata": {},
   "source": [
    "If you type `create_susan_smooth?` you can see how to specify the input variables to the susan workflow. In particular, they are...\n",
    "- `fwhm`: set this value to 4 (or whichever value you want)\n",
    "- `mask_file`: will be created in a later step\n",
    "- `in_file`: will be handled while connection to other nodes in the preproc workflow"
   ]
  },
  {
   "cell_type": "code",
   "execution_count": null,
   "metadata": {
    "solution2": "hidden",
    "solution2_first": true
   },
   "outputs": [],
   "source": [
    "# Initiate SUSAN workflow here"
   ]
  },
  {
   "cell_type": "code",
   "execution_count": null,
   "metadata": {
    "solution2": "hidden"
   },
   "outputs": [],
   "source": [
    "susan = create_susan_smooth(name='susan')\n",
    "susan.inputs.inputnode.fwhm = 4"
   ]
  },
  {
   "cell_type": "code",
   "execution_count": null,
   "metadata": {
    "solution2": "hidden",
    "solution2_first": true
   },
   "outputs": [],
   "source": [
    "# Connect Threshold node to coregistration node above here"
   ]
  },
  {
   "cell_type": "code",
   "execution_count": null,
   "metadata": {
    "solution2": "hidden"
   },
   "outputs": [],
   "source": [
    "preproc.connect([(applywarp, susan, [('out_file', 'inputnode.in_files')])])"
   ]
  },
  {
   "cell_type": "markdown",
   "metadata": {},
   "source": [
    "### Create Binary Mask\n",
    "\n",
    "There are many possible approaches on how you can mask your functional images. One of them is not at all, one is with a simple brain mask and one that only considers certain kind of brain tissue, e.g. gray matter.\n",
    "\n",
    "For the current example, we want to create a dilated gray matter mask. For this purpose we need to:\n",
    "1. Resample the gray matter probability map to the same resolution as the functional images\n",
    "2. Threshold this resampled probability map at a specific value\n",
    "3. Dilate this mask by some voxels to make the mask less conservative and more inclusive\n",
    "\n",
    "The first step can be done in many ways (eg. using freesurfer's `mri_convert`, `nibabel`) but in our case, we will use FSL's `FLIRT`. The trick is to use the probability mask, as input file and a reference file."
   ]
  },
  {
   "cell_type": "code",
   "execution_count": null,
   "metadata": {},
   "outputs": [],
   "source": [
    "from nipype.interfaces.fsl import FLIRT\n",
    "\n",
    "# Initiate resample node\n",
    "resample = Node(FLIRT(apply_isoxfm=desired_voxel_iso,\n",
    "                      output_type='NIFTI'),\n",
    "                name=\"resample\")"
   ]
  },
  {
   "cell_type": "markdown",
   "metadata": {},
   "source": [
    "The second and third step can luckily be done with just one node. We can take almost the same `Threshold` node as above. We just need to add another additional argument: `-dilF` - which applies a maximum filtering of all voxels."
   ]
  },
  {
   "cell_type": "code",
   "execution_count": null,
   "metadata": {},
   "outputs": [],
   "source": [
    "from nipype.interfaces.fsl import Threshold\n",
    "\n",
    "# Threshold - Threshold GM probability image\n",
    "mask_GM = Node(Threshold(thresh=0.5,\n",
    "                         args='-bin -dilF',\n",
    "                         output_type='NIFTI'),\n",
    "                name=\"mask_GM\")\n",
    "\n",
    "# Select GM segmentation file from segmentation output\n",
    "def get_gm(files):\n",
    "    return files[0][0]"
   ]
  },
  {
   "cell_type": "markdown",
   "metadata": {},
   "source": [
    "Now we can connect the resample and the gray matter mask node to the segmentation node and each other."
   ]
  },
  {
   "cell_type": "code",
   "execution_count": null,
   "metadata": {},
   "outputs": [],
   "source": [
    "preproc.connect([(segment, resample, [(('native_class_images', get_gm), 'in_file'),\n",
    "                                      (('native_class_images', get_gm), 'reference')\n",
    "                                      ]),\n",
    "                 (resample, mask_GM, [('out_file', 'in_file')])\n",
    "                 ])"
   ]
  },
  {
   "cell_type": "markdown",
   "metadata": {},
   "source": [
    "This should do the trick."
   ]
  },
  {
   "cell_type": "markdown",
   "metadata": {},
   "source": [
    "### Apply the binary mask\n",
    "\n",
    "Now we can connect this dilated gray matter mask to the susan node, as well as actually applying this to the resulting smoothed images."
   ]
  },
  {
   "cell_type": "code",
   "execution_count": null,
   "metadata": {
    "solution2": "hidden",
    "solution2_first": true
   },
   "outputs": [],
   "source": [
    "# Connect gray matter Mask node to the susan workflow here"
   ]
  },
  {
   "cell_type": "code",
   "execution_count": null,
   "metadata": {
    "solution2": "hidden"
   },
   "outputs": [],
   "source": [
    "preproc.connect([(mask_GM, susan, [('out_file', 'inputnode.mask_file')])])"
   ]
  },
  {
   "cell_type": "markdown",
   "metadata": {},
   "source": [
    "To apply the mask to the smoothed functional images, we will use FSL's `ApplyMask` interface."
   ]
  },
  {
   "cell_type": "code",
   "execution_count": null,
   "metadata": {},
   "outputs": [],
   "source": [
    "from nipype.interfaces.fsl import ApplyMask"
   ]
  },
  {
   "cell_type": "markdown",
   "metadata": {},
   "source": [
    "**Important:** The susan workflow gives out a list of files, i.e. `[smoothed_func.nii]` instead of just the filename directly. If we would use a normal `Node` for `ApplyMask` this would lead to the following error:\n",
    "\n",
    "    TraitError: The 'in_file' trait of an ApplyMaskInput instance must be an existing file name, but a value of ['/output/work_preproc/susan/smooth/mapflow/_smooth0/asub-07_ses-test_task-fingerfootlips_bold_mcf_flirt_smooth.nii.gz'] <class 'list'> was specified.\n",
    "\n",
    "\n",
    "To prevent this we will be using a `MapNode` and specify the `in_file` as it's iterfield. Like this, the node is capable to handle a list of inputs as it will know that it has to apply itself iteratively to the list of inputs."
   ]
  },
  {
   "cell_type": "code",
   "execution_count": null,
   "metadata": {},
   "outputs": [],
   "source": [
    "from nipype import MapNode"
   ]
  },
  {
   "cell_type": "code",
   "execution_count": null,
   "metadata": {
    "solution2": "hidden",
    "solution2_first": true
   },
   "outputs": [],
   "source": [
    "# Initiate ApplyMask node here"
   ]
  },
  {
   "cell_type": "code",
   "execution_count": null,
   "metadata": {
    "solution2": "hidden"
   },
   "outputs": [],
   "source": [
    "mask_func = MapNode(ApplyMask(output_type='NIFTI'),\n",
    "                    name=\"mask_func\", \n",
    "                    iterfield=[\"in_file\"])"
   ]
  },
  {
   "cell_type": "code",
   "execution_count": null,
   "metadata": {
    "solution2": "hidden",
    "solution2_first": true
   },
   "outputs": [],
   "source": [
    "# Connect smoothed susan output file to ApplyMask node here"
   ]
  },
  {
   "cell_type": "code",
   "execution_count": null,
   "metadata": {
    "solution2": "hidden"
   },
   "outputs": [],
   "source": [
    "preproc.connect([(susan, mask_func, [('outputnode.smoothed_files', 'in_file')]),\n",
    "                 (mask_GM, mask_func, [('out_file', 'mask_file')])\n",
    "                 ])"
   ]
  },
  {
   "cell_type": "markdown",
   "metadata": {},
   "source": [
    "### Remove linear trends in functional images\n",
    "\n",
    "Last but not least. Let's use Nipype's `TSNR` module to remove linear and quadratic trends in the functionally smoothed images. For this, you only have to specify the `regress_poly` parameter in the node initiation."
   ]
  },
  {
   "cell_type": "code",
   "execution_count": null,
   "metadata": {},
   "outputs": [],
   "source": [
    "from nipype.algorithms.confounds import TSNR"
   ]
  },
  {
   "cell_type": "code",
   "execution_count": null,
   "metadata": {
    "solution2": "hidden",
    "solution2_first": true
   },
   "outputs": [],
   "source": [
    "# Initiate TSNR node here"
   ]
  },
  {
   "cell_type": "code",
   "execution_count": null,
   "metadata": {
    "solution2": "hidden"
   },
   "outputs": [],
   "source": [
    "detrend = Node(TSNR(regress_poly=2), name=\"detrend\")"
   ]
  },
  {
   "cell_type": "code",
   "execution_count": null,
   "metadata": {
    "solution2": "hidden",
    "solution2_first": true
   },
   "outputs": [],
   "source": [
    "# Connect the detrend node to the other nodes here"
   ]
  },
  {
   "cell_type": "code",
   "execution_count": null,
   "metadata": {
    "solution2": "hidden"
   },
   "outputs": [],
   "source": [
    "preproc.connect([(mask_func, detrend, [('out_file', 'in_file')])])"
   ]
  },
  {
   "cell_type": "markdown",
   "metadata": {},
   "source": [
    "## Datainput with `SelectFiles` and `iterables` \n",
    "\n",
    "This is all nice and well. But so far we still had to specify the input values for `gunzip_anat` and `gunzip_func` ourselves. How can we scale this up to multiple subjects and/or multiple functional images and make the workflow take the input directly from the BIDS dataset?\n",
    "\n",
    "For this, we need `SelectFiles` and `iterables`! It's rather simple, specify a template and fill-up the placeholder variables."
   ]
  },
  {
   "cell_type": "code",
   "execution_count": null,
   "metadata": {},
   "outputs": [],
   "source": [
    "# Import the SelectFiles\n",
    "from nipype import SelectFiles\n",
    "\n",
    "# String template with {}-based strings\n",
    "templates = {'anat': 'sub-{subject_id}/ses-{ses_id}/anat/'\n",
    "                     'sub-{subject_id}_ses-test_T1w.nii.gz',\n",
    "             'func': 'sub-{subject_id}/ses-{ses_id}/func/'\n",
    "                     'sub-{subject_id}_ses-{ses_id}_task-{task_id}_bold.nii.gz'}\n",
    "\n",
    "# Create SelectFiles node\n",
    "sf = Node(SelectFiles(templates,\n",
    "                      base_directory='/data/ds000114',\n",
    "                      sort_filelist=True),\n",
    "          name='selectfiles')\n",
    "sf.inputs.ses_id='test'\n",
    "sf.inputs.task_id='fingerfootlips'"
   ]
  },
  {
   "cell_type": "markdown",
   "metadata": {},
   "source": [
    "Now we can specify over which subjects the workflow should iterate. To test the workflow, let's still just look at subject 7."
   ]
  },
  {
   "cell_type": "code",
   "execution_count": null,
   "metadata": {},
   "outputs": [],
   "source": [
    "subject_list = ['07']\n",
    "sf.iterables = [('subject_id', subject_list)]"
   ]
  },
  {
   "cell_type": "code",
   "execution_count": null,
   "metadata": {
    "solution2": "hidden",
    "solution2_first": true
   },
   "outputs": [],
   "source": [
    "# Connect SelectFiles node to the other nodes here"
   ]
  },
  {
   "cell_type": "code",
   "execution_count": null,
   "metadata": {
    "solution2": "hidden"
   },
   "outputs": [],
   "source": [
    "preproc.connect([(sf, gunzip_anat, [('anat', 'in_file')]),\n",
    "                 (sf, gunzip_func, [('func', 'in_file')])])"
   ]
  },
  {
   "cell_type": "markdown",
   "metadata": {},
   "source": [
    "## Visualize the workflow\n",
    "\n",
    "Now that we're done. Let's look at the workflow that we just created."
   ]
  },
  {
   "cell_type": "code",
   "execution_count": null,
   "metadata": {},
   "outputs": [],
   "source": [
    "# Create preproc output graph\n",
    "preproc.write_graph(graph2use='colored', format='png', simple_form=True)\n",
    "\n",
    "# Visualize the graph\n",
    "from IPython.display import Image\n",
    "Image(filename='/output/work_preproc/graph.png', width=750)"
   ]
  },
  {
   "cell_type": "markdown",
   "metadata": {},
   "source": [
    "##  Run the Workflow\n",
    "\n",
    "Now we are ready to run the workflow! Be careful about the `n_procs` parameter if you run a workflow in `'MultiProc'` mode. `n_procs` specifies the number of jobs/cores your computer will use to run the workflow. If this number is too high your computer will try to execute too many things at once and will most likely crash.\n",
    "\n",
    "**Note**: If  you're using a Docker container and FLIRT fails to run without any good reason, you might need to change memory settings in the Docker preferences (6 GB should be enough for this workflow)."
   ]
  },
  {
   "cell_type": "code",
   "execution_count": null,
   "metadata": {
    "scrolled": true
   },
   "outputs": [],
   "source": [
    "preproc.run('MultiProc', plugin_args={'n_procs': 4})"
   ]
  },
  {
   "cell_type": "markdown",
   "metadata": {},
   "source": [
    "## Inspect output\n",
    "\n",
    "What did we actually do? Let's look at all the data that was created."
   ]
  },
  {
   "cell_type": "code",
   "execution_count": null,
   "metadata": {
    "scrolled": true
   },
   "outputs": [],
   "source": [
    "!tree /output/work_preproc/ -I '*js|*json|*pklz|_report|*dot|*html|*txt|*.m'"
   ]
  },
  {
   "cell_type": "markdown",
   "metadata": {},
   "source": [
    "But what did we do specifically? Well, let's investigate."
   ]
  },
  {
   "cell_type": "markdown",
   "metadata": {},
   "source": [
    "### Motion Correction and Artifact Detection\n",
    "\n",
    "How much did the subject move in the scanner and where there any outliers in the functional images?"
   ]
  },
  {
   "cell_type": "code",
   "execution_count": null,
   "metadata": {},
   "outputs": [],
   "source": [
    "%matplotlib inline"
   ]
  },
  {
   "cell_type": "code",
   "execution_count": null,
   "metadata": {},
   "outputs": [],
   "source": [
    "# Plot the motion paramters\n",
    "import numpy as np\n",
    "import matplotlib.pyplot as plt\n",
    "par = np.loadtxt('/output/work_preproc/_subject_id_07/mcflirt/'\n",
    "                 'asub-07_ses-test_task-fingerfootlips_bold_roi_mcf.nii.gz.par')\n",
    "fig, axes = plt.subplots(2, 1, figsize=(15, 5))\n",
    "axes[0].set_ylabel('rotation (radians)')\n",
    "axes[0].plot(par[0:, :3])\n",
    "axes[1].plot(par[0:, 3:])\n",
    "axes[1].set_xlabel('time (TR)')\n",
    "axes[1].set_ylabel('translation (mm)');"
   ]
  },
  {
   "cell_type": "markdown",
   "metadata": {},
   "source": [
    "The motion parameters seems to look ok. What about the detection of artifacts?"
   ]
  },
  {
   "cell_type": "code",
   "execution_count": null,
   "metadata": {},
   "outputs": [],
   "source": [
    "# Showing the artifact detection output\n",
    "from IPython.display import SVG\n",
    "SVG(filename='/output/work_preproc/_subject_id_07/art/'\n",
    "    'plot.asub-07_ses-test_task-fingerfootlips_bold_roi_mcf.svg')"
   ]
  },
  {
   "cell_type": "markdown",
   "metadata": {},
   "source": [
    "Which volumes are problematic?"
   ]
  },
  {
   "cell_type": "code",
   "execution_count": null,
   "metadata": {},
   "outputs": [],
   "source": [
    "outliers = np.loadtxt('/output/work_preproc/_subject_id_07/art/'\n",
    "                      'art.asub-07_ses-test_task-fingerfootlips_bold_roi_mcf_outliers.txt')\n",
    "list(outliers.astype('int'))"
   ]
  },
  {
   "cell_type": "markdown",
   "metadata": {},
   "source": [
    "### Masks and Probability maps\n",
    "\n",
    "Let's see what all the masks and probability maps look like. For this, we will use `nilearn`'s `plot_anat` function."
   ]
  },
  {
   "cell_type": "code",
   "execution_count": null,
   "metadata": {},
   "outputs": [],
   "source": [
    "from nilearn import image as nli\n",
    "from nilearn.plotting import plot_stat_map\n",
    "%matplotlib inline\n",
    "output = '/output/work_preproc/_subject_id_07/'"
   ]
  },
  {
   "cell_type": "markdown",
   "metadata": {},
   "source": [
    "First, let's look at the tissue probability maps."
   ]
  },
  {
   "cell_type": "code",
   "execution_count": null,
   "metadata": {},
   "outputs": [],
   "source": [
    "anat = output + 'gunzip_anat/sub-07_ses-test_T1w.nii'"
   ]
  },
  {
   "cell_type": "code",
   "execution_count": null,
   "metadata": {},
   "outputs": [],
   "source": [
    "plot_stat_map(\n",
    "    output + 'segment/c1sub-07_ses-test_T1w.nii', title='GM prob. map',  cmap=plt.cm.magma,\n",
    "    threshold=0.5, bg_img=anat, display_mode='z', cut_coords=range(-35, 15, 10), dim=-1);"
   ]
  },
  {
   "cell_type": "code",
   "execution_count": null,
   "metadata": {},
   "outputs": [],
   "source": [
    "plot_stat_map(\n",
    "    output + 'segment/c2sub-07_ses-test_T1w.nii', title='WM prob. map', cmap=plt.cm.magma,\n",
    "    threshold=0.5, bg_img=anat, display_mode='z', cut_coords=range(-35, 15, 10), dim=-1);"
   ]
  },
  {
   "cell_type": "code",
   "execution_count": null,
   "metadata": {},
   "outputs": [],
   "source": [
    "plot_stat_map(\n",
    "    output + 'segment/c3sub-07_ses-test_T1w.nii', title='CSF prob. map', cmap=plt.cm.magma,\n",
    "    threshold=0.5, bg_img=anat, display_mode='z', cut_coords=range(-35, 15, 10), dim=-1);"
   ]
  },
  {
   "cell_type": "markdown",
   "metadata": {},
   "source": [
    "And how does the gray matter mask look like that we used on the functional images?"
   ]
  },
  {
   "cell_type": "code",
   "execution_count": null,
   "metadata": {},
   "outputs": [],
   "source": [
    "plot_stat_map(\n",
    "    output + 'mask_GM/c1sub-07_ses-test_T1w_flirt_thresh.nii', title='dilated GM Mask', cmap=plt.cm.magma,\n",
    "    threshold=0.5, bg_img=anat, display_mode='z', cut_coords=range(-35, 15, 10), dim=-1);"
   ]
  },
  {
   "cell_type": "markdown",
   "metadata": {},
   "source": [
    "### Functional Image transformations\n",
    "\n",
    "Let's also investigate the transformation that we applied to the functional images."
   ]
  },
  {
   "cell_type": "code",
   "execution_count": null,
   "metadata": {},
   "outputs": [],
   "source": [
    "from nilearn import image as nli\n",
    "from nilearn.plotting import plot_epi\n",
    "%matplotlib inline\n",
    "output = '/output/work_preproc/_subject_id_07/'"
   ]
  },
  {
   "cell_type": "code",
   "execution_count": null,
   "metadata": {},
   "outputs": [],
   "source": [
    "plot_epi(output + 'mcflirt/asub-07_ses-test_task-fingerfootlips_bold_roi_mcf.nii.gz_mean_reg.nii.gz',\n",
    "         title='Motion Corrected mean image', display_mode='z', cut_coords=range(-40, 21, 15),\n",
    "         cmap=plt.cm.viridis);"
   ]
  },
  {
   "cell_type": "code",
   "execution_count": null,
   "metadata": {},
   "outputs": [],
   "source": [
    "mean = nli.mean_img(output + 'applywarp/asub-07_ses-test_task-fingerfootlips_bold_roi_mcf_flirt.nii')\n",
    "plot_epi(mean, title='Coregistred mean image', display_mode='z', cut_coords=range(-40, 21, 15),\n",
    "         cmap=plt.cm.viridis);"
   ]
  },
  {
   "cell_type": "code",
   "execution_count": null,
   "metadata": {},
   "outputs": [],
   "source": [
    "mean = nli.mean_img('/output/work_preproc/susan/_subject_id_07/smooth/mapflow/_smooth0/'\n",
    "                    'asub-07_ses-test_task-fingerfootlips_bold_roi_mcf_flirt_smooth.nii.gz')\n",
    "plot_epi(mean, title='Smoothed mean image', display_mode='z', cut_coords=range(-40, 21, 15),\n",
    "         cmap=plt.cm.viridis);"
   ]
  },
  {
   "cell_type": "code",
   "execution_count": null,
   "metadata": {},
   "outputs": [],
   "source": [
    "mean = nli.mean_img(output + 'mask_func/mapflow/_mask_func0/'\n",
    "                    'asub-07_ses-test_task-fingerfootlips_bold_roi_mcf_flirt_smooth_masked.nii')\n",
    "plot_epi(mean, title='Masked mean image', display_mode='z', cut_coords=range(-40, 21, 15),\n",
    "         cmap=plt.cm.viridis);"
   ]
  },
  {
   "cell_type": "code",
   "execution_count": null,
   "metadata": {},
   "outputs": [],
   "source": [
    "plot_epi(output + 'detrend/mean.nii.gz', title='Detrended mean image', display_mode='z',\n",
    "         cut_coords=range(-40, 21, 15), cmap=plt.cm.viridis);"
   ]
  },
  {
   "cell_type": "markdown",
   "metadata": {},
   "source": [
    "That's all nice and beautiful, but what did smoothing and detrending actually do to the data?"
   ]
  },
  {
   "cell_type": "code",
   "execution_count": null,
   "metadata": {},
   "outputs": [],
   "source": [
    "import nibabel as nb\n",
    "%matplotlib inline\n",
    "output = '/output/work_preproc/_subject_id_07/'\n",
    "\n",
    "# Load the relevant datasets\n",
    "mc = nb.load(output + 'applywarp/asub-07_ses-test_task-fingerfootlips_bold_roi_mcf_flirt.nii')\n",
    "smooth = nb.load('/output/work_preproc/susan/_subject_id_07/smooth/mapflow/'\n",
    "                 '_smooth0/asub-07_ses-test_task-fingerfootlips_bold_roi_mcf_flirt_smooth.nii.gz')\n",
    "detrended_data = nb.load(output + 'detrend/detrend.nii.gz')\n",
    "\n",
    "# Plot a representative voxel\n",
    "x, y, z = 32, 34, 43\n",
    "fig = plt.figure(figsize=(12, 4))\n",
    "plt.plot(mc.get_data()[x, y, z, :])\n",
    "plt.plot(smooth.get_data()[x, y, z, :])\n",
    "plt.plot(detrended_data.get_data()[x, y, z, :])\n",
    "plt.legend(['motion corrected', 'smoothed', 'detrended']);"
   ]
  },
  {
   "cell_type": "markdown",
   "metadata": {},
   "source": [
    "## Data output with `DataSink`\n",
    "\n",
    "The results look fine, but we don't need all those temporary files. So let's use Datasink to keep only those files that we actually need for the 1st and 2nd level analysis."
   ]
  },
  {
   "cell_type": "code",
   "execution_count": null,
   "metadata": {},
   "outputs": [],
   "source": [
    "from nipype.interfaces.io import DataSink\n",
    "\n",
    "# Initiate the datasink node\n",
    "output_folder = 'datasink_handson'\n",
    "datasink = Node(DataSink(base_directory='/output/',\n",
    "                         container=output_folder),\n",
    "                name=\"datasink\")"
   ]
  },
  {
   "cell_type": "markdown",
   "metadata": {},
   "source": [
    "Now the next step is to specify all the output that we want to keep in our output folder `output`. Make sure to keep:\n",
    "- from the artifact detection node the outlier file as well as the outlier plot\n",
    "- from the motion correction node the motion parameters\n",
    "- from the last node, the detrended functional image"
   ]
  },
  {
   "cell_type": "code",
   "execution_count": null,
   "metadata": {
    "solution2": "hidden",
    "solution2_first": true
   },
   "outputs": [],
   "source": [
    "# Connect nodes to datasink here"
   ]
  },
  {
   "cell_type": "code",
   "execution_count": null,
   "metadata": {
    "solution2": "hidden"
   },
   "outputs": [],
   "source": [
    "preproc.connect([(art, datasink, [('outlier_files', 'preproc.@outlier_files'),\n",
    "                                  ('plot_files', 'preproc.@plot_files')]),\n",
    "                 (mcflirt, datasink, [('par_file', 'preproc.@par')]),\n",
    "                 (detrend, datasink, [('detrended_file', 'preproc.@func')]),\n",
    "                 ])"
   ]
  },
  {
   "cell_type": "markdown",
   "metadata": {},
   "source": [
    "## Run the workflow\n",
    "\n",
    "After adding the datasink folder, let's run the preprocessing workflow again."
   ]
  },
  {
   "cell_type": "code",
   "execution_count": null,
   "metadata": {
    "scrolled": true
   },
   "outputs": [],
   "source": [
    "preproc.run('MultiProc', plugin_args={'n_procs': 4})"
   ]
  },
  {
   "cell_type": "markdown",
   "metadata": {},
   "source": [
    "Let's look now at the output of this datasink folder."
   ]
  },
  {
   "cell_type": "code",
   "execution_count": null,
   "metadata": {},
   "outputs": [],
   "source": [
    "!tree /output/datasink_handson -I '*js|*json|*pklz|_report|*dot|*html|*txt|*.m'"
   ]
  },
  {
   "cell_type": "markdown",
   "metadata": {},
   "source": [
    "Much better! But we're still not there yet. There are many unnecessary file specifiers that we can get rid off. To do so, we can use `DataSink`'s `substitutions` parameter. For this, we create a list of tuples: on the left, we specify the string that we want to replace and on the right, with what we want to replace it with."
   ]
  },
  {
   "cell_type": "code",
   "execution_count": null,
   "metadata": {},
   "outputs": [],
   "source": [
    "## Use the following substitutions for the DataSink output\n",
    "substitutions = [('asub', 'sub'),\n",
    "                 ('_ses-test_task-fingerfootlips_bold_roi_mcf', ''),\n",
    "                 ('.nii.gz.par', '.par'),\n",
    "                 ]\n",
    "\n",
    "# To get rid of the folder '_subject_id_07' and renaming detrend\n",
    "substitutions += [('_subject_id_%s/detrend' % s,\n",
    "                   '_subject_id_%s/sub-%s_detrend' % (s, s)) for s in subject_list]\n",
    "substitutions += [('_subject_id_%s/' % s, '') for s in subject_list]\n",
    "datasink.inputs.substitutions = substitutions"
   ]
  },
  {
   "cell_type": "markdown",
   "metadata": {},
   "source": [
    "Before we run the preprocessing workflow again, let's first delete the current output folder:"
   ]
  },
  {
   "cell_type": "code",
   "execution_count": null,
   "metadata": {},
   "outputs": [],
   "source": [
    "# Delets the current output folder\n",
    "!rm -rf /output/datasink_handson"
   ]
  },
  {
   "cell_type": "code",
   "execution_count": null,
   "metadata": {
    "scrolled": true
   },
   "outputs": [],
   "source": [
    "# Runs the preprocessing workflow again, this time with substitutions\n",
    "preproc.run('MultiProc', plugin_args={'n_procs': 4})"
   ]
  },
  {
   "cell_type": "code",
   "execution_count": null,
   "metadata": {},
   "outputs": [],
   "source": [
    "!tree /output/datasink_handson -I '*js|*json|*pklz|_report|*dot|*html|*.m'"
   ]
  },
  {
   "cell_type": "markdown",
   "metadata": {},
   "source": [
    "## Run Preprocessing workflow on 3 right-handed subjects"
   ]
  },
  {
   "cell_type": "markdown",
   "metadata": {},
   "source": [
    "Perfect! Now let's run the whole workflow for right-handed subjects 2, 3 and 7. For this, you just need to change the `subject_list` variable and run again the places where this variable is used (i.e. `sf.iterables` and in `DataSink` `substitutions`."
   ]
  },
  {
   "cell_type": "code",
   "execution_count": null,
   "metadata": {
    "solution2": "hidden",
    "solution2_first": true
   },
   "outputs": [],
   "source": [
    "# Update 'subject_list' and its dependencies here"
   ]
  },
  {
   "cell_type": "code",
   "execution_count": null,
   "metadata": {
    "solution2": "hidden"
   },
   "outputs": [],
   "source": [
    "subject_list = ['02', '03', '07']\n",
    "\n",
    "sf.iterables = [('subject_id', subject_list)]"
   ]
  },
  {
   "cell_type": "code",
   "execution_count": null,
   "metadata": {},
   "outputs": [],
   "source": [
    "# To get rid of the folder '_subject_id_02' and renaming detrend\n",
    "substitutions += [('_subject_id_%s/detrend' % s,\n",
    "                   '_subject_id_%s/sub-%s_detrend' % (s, s)) for s in subject_list]\n",
    "substitutions += [('_subject_id_%s/' % s, '') for s in subject_list]\n",
    "datasink.inputs.substitutions = substitutions"
   ]
  },
  {
   "cell_type": "markdown",
   "metadata": {},
   "source": [
    "Now we can run the workflow again, this time for all right handed subjects in parallel."
   ]
  },
  {
   "cell_type": "code",
   "execution_count": null,
   "metadata": {
    "scrolled": true
   },
   "outputs": [],
   "source": [
    "# Runs the preprocessing workflow again, this time with substitutions\n",
    "preproc.run('MultiProc', plugin_args={'n_procs': 4})"
   ]
  },
  {
   "cell_type": "markdown",
   "metadata": {},
   "source": [
    "Now we're ready for the next section [Hands-on 2: How to create a fMRI analysis workflow](handson_analysis.ipynb)!"
   ]
  }
 ],
 "metadata": {
  "anaconda-cloud": {},
  "kernelspec": {
   "display_name": "Python 3",
   "language": "python",
   "name": "python3"
  },
  "language_info": {
   "codemirror_mode": {
    "name": "ipython",
    "version": 3
   },
   "file_extension": ".py",
   "mimetype": "text/x-python",
   "name": "python",
   "nbconvert_exporter": "python",
   "pygments_lexer": "ipython3",
   "version": "3.10.12"
  }
 },
 "nbformat": 4,
 "nbformat_minor": 2
}
